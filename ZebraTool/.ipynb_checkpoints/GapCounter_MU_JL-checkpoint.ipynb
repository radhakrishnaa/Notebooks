{
 "cells": [
  {
   "cell_type": "code",
   "execution_count": 2,
   "metadata": {},
   "outputs": [
    {
     "name": "stdout",
     "output_type": "stream",
     "text": [
      "Created file 'D:\\ZebraTool_For the Cluster\\ZebraTool_For the Cluster\\GapeCounter_MU.m'.\n"
     ]
    }
   ],
   "source": [
    "%%file GapeCounter_MU.m\n",
    "%% main program\n",
    " function GapeCounter_MU(baseName,folder)\n",
    " \n",
    "%  Zebrafish gape counter is a tool to detect and analysis the jow movemetn\n",
    "%  of zebrafish and count the number of jow oppenning\n",
    "% for more details refer to the published paper\n",
    "\n",
    "%  ”Dissecting Branchiomotor Neuron Circuits in ZebrafishToward High-Throughput Automated\n",
    "% Analysis of Jaw Movements”.  IEEE International Symposium on Biomedical Imaging (ISBI’18),\n",
    "% 2018.\n",
    "\n",
    "%  or contact\n",
    "% Yasmin M. Kassim @  ymkgz8@mail.missouri.edu\n",
    "% Noor Al-Shakarji @ nmahyd@mail.missouri.edu\n",
    "% Kannappan Palaniappan @  palaniappank@missouri.edu\n",
    " \n",
    "close all\n",
    "fileID = fopen('imageFile.txt','r');\n",
    "folder = fgetl(fileID);\n",
    "baseName = fgetl(fileID);\n",
    "fclose(fileID)\n",
    "addpath(folder)\n",
    "% [baseName, folder] = uigetfile('*.tif');\n",
    "filename = fullfile(folder, baseName);\n",
    "GapeCount(baseName(1:end-4),filename);\n",
    " end"
   ]
  },
  {
   "cell_type": "code",
   "execution_count": null,
   "metadata": {},
   "outputs": [],
   "source": []
  }
 ],
 "metadata": {
  "kernelspec": {
   "display_name": "Matlab",
   "language": "matlab",
   "name": "matlab"
  },
  "language_info": {
   "codemirror_mode": "octave",
   "file_extension": ".m",
   "help_links": [
    {
     "text": "MetaKernel Magics",
     "url": "https://github.com/calysto/metakernel/blob/master/metakernel/magics/README.md"
    }
   ],
   "mimetype": "text/x-octave",
   "name": "matlab",
   "version": "0.15.0"
  }
 },
 "nbformat": 4,
 "nbformat_minor": 2
}
